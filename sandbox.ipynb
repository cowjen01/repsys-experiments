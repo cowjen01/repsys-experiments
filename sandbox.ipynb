{
 "cells": [
  {
   "cell_type": "code",
   "execution_count": 1,
   "metadata": {},
   "outputs": [],
   "source": [
    "%load_ext autoreload\n",
    "%autoreload 2"
   ]
  },
  {
   "cell_type": "code",
   "execution_count": 2,
   "metadata": {},
   "outputs": [],
   "source": [
    "import numpy as np\n",
    "import pandas as pd\n",
    "import sys\n",
    "import pymde\n",
    "import scipy.sparse as sp\n",
    "\n",
    "%matplotlib inline\n",
    "\n",
    "import matplotlib\n",
    "import matplotlib.pyplot as plt\n",
    "\n",
    "import plotly.express as px\n",
    "\n",
    "from sklearn.cluster import DBSCAN\n",
    "\n",
    "from sklearn.decomposition import TruncatedSVD\n",
    "from sklearn.neighbors import NearestNeighbors\n",
    "\n",
    "sys.path.insert(1, '..')\n",
    "\n",
    "from repsys.dataset import Dataset\n",
    "from repsys.model import Model\n",
    "from repsys.evaluators import DatasetEvaluator, ModelEvaluator\n",
    "import repsys.dtypes as dtypes"
   ]
  },
  {
   "cell_type": "code",
   "execution_count": 4,
   "metadata": {},
   "outputs": [],
   "source": [
    "class MovieLens(Dataset):\n",
    "    def name(self):\n",
    "        return \"movielens\"\n",
    "\n",
    "    def get_genres(self):\n",
    "        return self.tags.get('genres')\n",
    "\n",
    "    def item_cols(self):\n",
    "        return {\n",
    "            \"movieId\": dtypes.ItemID(),\n",
    "            \"title\": dtypes.Title(),\n",
    "            \"genres\": dtypes.Tag(sep=\"|\"),\n",
    "            \"year\": dtypes.Number(data_type=int),\n",
    "        }\n",
    "\n",
    "    def interaction_cols(self):\n",
    "        return {\n",
    "            \"movieId\": dtypes.ItemID(),\n",
    "            \"userId\": dtypes.UserID(),\n",
    "            \"rating\": dtypes.Interaction(),\n",
    "        }\n",
    "\n",
    "    def load_items(self):\n",
    "        df = pd.read_csv(\"./datasets/ml-sm/movies.csv\")\n",
    "        df[\"year\"] = df[\"title\"].str.extract(\"\\((\\d+)\\)\")\n",
    "        return df\n",
    "\n",
    "    def load_interactions(self):\n",
    "        return pd.read_csv(\"./datasets/ml-sm/ratings.csv\")"
   ]
  },
  {
   "cell_type": "code",
   "execution_count": 5,
   "metadata": {},
   "outputs": [],
   "source": [
    "dataset = MovieLens()\n",
    "dataset.split()"
   ]
  },
  {
   "cell_type": "code",
   "execution_count": 8,
   "metadata": {},
   "outputs": [],
   "source": [
    "X = dataset.get_train_data()\n",
    "G = X.T.dot(X).toarray()\n",
    "diagIndices = np.diag_indices(G.shape[0])\n",
    "G[diagIndices] += 0.5\n",
    "P = np.linalg.inv(G)\n",
    "B = P / (-np.diag(P))\n",
    "B[diagIndices] = 0\n",
    "pred = X.dot(B)"
   ]
  },
  {
   "cell_type": "code",
   "execution_count": 11,
   "metadata": {},
   "outputs": [
    {
     "data": {
      "text/plain": [
       "<46x9396 sparse matrix of type '<class 'numpy.float64'>'\n",
       "\twith 3978 stored elements in Compressed Sparse Row format>"
      ]
     },
     "execution_count": 11,
     "metadata": {},
     "output_type": "execute_result"
    }
   ],
   "source": [
    "dataset.get_validation_data()"
   ]
  },
  {
   "cell_type": "code",
   "execution_count": 13,
   "metadata": {},
   "outputs": [
    {
     "data": {
      "text/plain": [
       "(518, 9396)"
      ]
     },
     "execution_count": 13,
     "metadata": {},
     "output_type": "execute_result"
    }
   ],
   "source": [
    "X.shape"
   ]
  },
  {
   "cell_type": "code",
   "execution_count": 14,
   "metadata": {},
   "outputs": [
    {
     "data": {
      "text/plain": [
       "(9396, 9396)"
      ]
     },
     "execution_count": 14,
     "metadata": {},
     "output_type": "execute_result"
    }
   ],
   "source": [
    "B.shape"
   ]
  },
  {
   "cell_type": "code",
   "execution_count": 18,
   "metadata": {},
   "outputs": [],
   "source": [
    "pred = dataset.get_validation_data()[0].dot(B)"
   ]
  },
  {
   "cell_type": "code",
   "execution_count": 20,
   "metadata": {},
   "outputs": [
    {
     "data": {
      "text/plain": [
       "(46, 9396)"
      ]
     },
     "execution_count": 20,
     "metadata": {},
     "output_type": "execute_result"
    }
   ],
   "source": [
    "pred.shape"
   ]
  },
  {
   "cell_type": "code",
   "execution_count": 5,
   "metadata": {},
   "outputs": [],
   "source": [
    "class KNN(Model):\n",
    "  def __init__(self, k=5):\n",
    "    self.model = NearestNeighbors(n_neighbors=k, metric=\"cosine\")\n",
    "\n",
    "  def name(self):\n",
    "    return \"knn\"\n",
    "\n",
    "  def fit(self):\n",
    "    self.model.fit(self.dataset.get_train_data())\n",
    "\n",
    "  def predict(self, X, **kwargs):\n",
    "    # the slowest phase of the prediction\n",
    "    distances, indexes = self.model.kneighbors(X)\n",
    "\n",
    "    n_distances = distances[:, 1:]\n",
    "    n_indexes = indexes[:, 1:]\n",
    "\n",
    "    n_distances = 1 - n_distances\n",
    "\n",
    "    sums = n_distances.sum(axis=1)\n",
    "    n_distances = n_distances / sums[:, np.newaxis]\n",
    "        \n",
    "    def f(dist, idx):\n",
    "        A = self.dataset.get_train_data()[idx]\n",
    "        D = sp.diags(dist)\n",
    "        return D.dot(A).sum(axis=0)\n",
    "    \n",
    "    vf = np.vectorize(f, signature='(n),(n)->(m)')\n",
    "\n",
    "    pred = vf(n_distances, n_indexes)\n",
    "        \n",
    "    pred[(X > 0).toarray()] = 0\n",
    "\n",
    "    return pred"
   ]
  },
  {
   "cell_type": "code",
   "execution_count": 6,
   "metadata": {},
   "outputs": [],
   "source": [
    "model = KNN(k=20)\n",
    "model.update_dataset(dataset)\n",
    "model.fit()"
   ]
  },
  {
   "cell_type": "code",
   "execution_count": 21,
   "metadata": {},
   "outputs": [],
   "source": [
    "evaluator = ModelEvaluator()\n",
    "evaluator.update_dataset(dataset)"
   ]
  },
  {
   "cell_type": "code",
   "execution_count": 30,
   "metadata": {},
   "outputs": [
    {
     "data": {
      "text/plain": [
       "(46, 9396)"
      ]
     },
     "execution_count": 30,
     "metadata": {},
     "output_type": "execute_result"
    }
   ],
   "source": [
    "pred.shape"
   ]
  },
  {
   "cell_type": "code",
   "execution_count": 26,
   "metadata": {},
   "outputs": [],
   "source": [
    "true = dataset.get_validation_data()[1]"
   ]
  },
  {
   "cell_type": "code",
   "execution_count": 28,
   "metadata": {},
   "outputs": [
    {
     "data": {
      "text/plain": [
       "(46, 9396)"
      ]
     },
     "execution_count": 28,
     "metadata": {},
     "output_type": "execute_result"
    }
   ],
   "source": [
    "true.shape"
   ]
  },
  {
   "cell_type": "code",
   "execution_count": 31,
   "metadata": {},
   "outputs": [
    {
     "data": {
      "text/plain": [
       "{'recall@5': array([0.2 , 0.  , 0.  , 0.  , 0.2 , 0.2 , 0.2 , 0.25, 0.2 , 0.  , 0.  ,\n",
       "        0.  , 0.4 , 0.2 , 0.  , 0.  , 0.  , 0.  , 0.  , 0.2 , 0.  , 0.2 ,\n",
       "        0.4 , 0.  , 0.  , 0.4 , 0.4 , 0.2 , 0.  , 0.25, 0.2 , 0.4 , 0.  ,\n",
       "        0.2 , 0.2 , 0.6 , 0.  , 0.4 , 0.  , 0.  , 0.4 , 0.  , 0.2 , 0.  ,\n",
       "        0.2 , 0.  ], dtype=float32),\n",
       " 'recall@20': array([0.05      , 0.27272728, 0.07142857, 0.05      , 0.15      ,\n",
       "        0.25      , 0.2       , 0.5       , 0.8       , 0.        ,\n",
       "        0.1       , 0.1       , 0.11111111, 0.15      , 0.27272728,\n",
       "        0.        , 0.08333334, 0.14285715, 0.        , 0.25      ,\n",
       "        0.2       , 0.15      , 0.33333334, 0.15      , 0.        ,\n",
       "        0.25      , 0.15      , 0.11111111, 0.15      , 0.5       ,\n",
       "        0.125     , 0.375     , 0.1       , 0.05      , 0.15      ,\n",
       "        0.25      , 0.        , 0.625     , 0.2857143 , 0.        ,\n",
       "        0.2       , 0.42857143, 0.08333334, 0.16666667, 0.33333334,\n",
       "        0.13333334], dtype=float32),\n",
       " 'recall@50': array([0.15384616, 0.6363636 , 0.07142857, 0.22727273, 0.08      ,\n",
       "        0.24      , 0.4       , 1.        , 1.        , 0.125     ,\n",
       "        0.07317073, 0.1       , 0.2777778 , 0.15      , 0.54545456,\n",
       "        0.25      , 0.25      , 0.42857143, 0.25      , 0.23333333,\n",
       "        0.2       , 0.17021276, 0.53333336, 0.3       , 0.        ,\n",
       "        0.30232558, 0.18181819, 0.22222222, 0.1       , 0.5       ,\n",
       "        0.25      , 0.625     , 0.09677419, 0.2       , 0.22727273,\n",
       "        0.5       , 0.2857143 , 0.75      , 0.2857143 , 0.        ,\n",
       "        0.2       , 0.42857143, 0.25      , 0.16666667, 0.33333334,\n",
       "        0.26666668], dtype=float32)}"
      ]
     },
     "execution_count": 31,
     "metadata": {},
     "output_type": "execute_result"
    }
   ],
   "source": [
    "evaluator._get_metrics_results(pred, dataset.get_validation_data()[1].toarray())"
   ]
  },
  {
   "cell_type": "code",
   "execution_count": 9,
   "metadata": {},
   "outputs": [
    {
     "name": "stderr",
     "output_type": "stream",
     "text": [
      "WARNING:absl:No GPU/TPU found, falling back to CPU. (Set TF_CPP_MIN_LOG_LEVEL=0 and rerun for more info.)\n"
     ]
    }
   ],
   "source": [
    "evaluator.evaluate(model, split='validation')"
   ]
  },
  {
   "cell_type": "code",
   "execution_count": 10,
   "metadata": {},
   "outputs": [],
   "source": [
    "evaluator.save('foo.zip')"
   ]
  },
  {
   "cell_type": "code",
   "execution_count": 15,
   "metadata": {},
   "outputs": [
    {
     "name": "stdout",
     "output_type": "stream",
     "text": [
      "Model knn:\n",
      "        recall@5  recall@20  recall@50\n",
      "count  46.000000  46.000000  46.000000\n",
      "mean    0.294203   0.283369   0.385433\n",
      "std     0.230196   0.234040   0.291111\n",
      "min     0.000000   0.000000   0.000000\n",
      "25%     0.200000   0.114583   0.175435\n",
      "50%     0.225000   0.211111   0.303846\n",
      "75%     0.400000   0.448611   0.528846\n",
      "max     1.000000   1.000000   1.000000\n"
     ]
    }
   ],
   "source": [
    "evaluator.print()"
   ]
  },
  {
   "cell_type": "code",
   "execution_count": null,
   "metadata": {},
   "outputs": [],
   "source": []
  }
 ],
 "metadata": {
  "interpreter": {
   "hash": "56116db39e34858da7bcc694b131a47518b653d2b6de6b52a1653a01e20bb8fd"
  },
  "kernelspec": {
   "display_name": "Python 3 (ipykernel)",
   "language": "python",
   "name": "python3"
  },
  "language_info": {
   "codemirror_mode": {
    "name": "ipython",
    "version": 3
   },
   "file_extension": ".py",
   "mimetype": "text/x-python",
   "name": "python",
   "nbconvert_exporter": "python",
   "pygments_lexer": "ipython3",
   "version": "3.7.11"
  }
 },
 "nbformat": 4,
 "nbformat_minor": 4
}
